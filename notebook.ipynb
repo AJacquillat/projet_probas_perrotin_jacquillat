{
 "cells": [
  {
   "cell_type": "markdown",
   "metadata": {
    "slideshow": {
     "slide_type": "slide"
    }
   },
   "source": [
    "# Projet Mathématiques Informatique III: Probabilités\n",
    "\n",
    "### Louis Perrotin\n",
    "### Augustin Jacquillat "
   ]
  },
  {
   "cell_type": "markdown",
   "metadata": {
    "slideshow": {
     "slide_type": "slide"
    }
   },
   "source": [
    "Cher lecteur, Vous trouverez dans ce notebook des éléments de probabilités. Nous traitons la question de la longeur d'un câble sous marin. Etant fixés les deux point à relier, il nous faut estimer la profondeur du fond marin afin de choisir un câble de longeur apropriée.\n",
    "\n",
    "Nous traiterons dans une première partie les questions théoriques qui nous permettront d'établir une bonne méthode de simulation implémentée dans la seconde partie de notre étude. \n"
   ]
  },
  {
   "cell_type": "markdown",
   "metadata": {},
   "source": [
    "# Questions théoriques \n",
    "\n",
    "### 1. Justification de l'approximation de l’espérance conditionnelle par la moyenne empirique de simulations conditionnelles\n",
    "\n",
    "mystère \n",
    "\n",
    "### 2. Loi conditionnelle du vecteur des composantes de Z correspondant aux points de discrétisation sans observation, connaissant les valeurs prises par les composantes aux sites d’observation.\n",
    "\n",
    "Notons Y le vecteur gaussien associé aux profondeurs inconnues, X celui associé aux profondeurs connues. \n",
    "\n",
    "La matrice de covariance de Z peut alors s'écrire :\n",
    "$C=\\begin{pmatrix}\n",
    "   C_Y & C_{Y,X} \\\\\n",
    "   C_{X,Y} & C_X \n",
    "\\end{pmatrix}\n",
    "$ où $C_{A,B}=cov(A,B)$ pour tous $A,B \\in {X,Y} $\n",
    "et \n",
    "$ C_Y=C_{Y,Y}$\n",
    "\n",
    "$ C_X=C_{X,X} $. \n",
    "\n",
    "En notant $CS_Y$ le complément de Schlum du block $C_Y$, la loi conditionnelle de Y sachant X=x est :\n",
    "\n",
    "$\\mathbf{f_{Y|X=x}=\\frac{1}{(2\\pi)^{k/2}det(CS_Y)}exp(-\\frac{1}{2}(y-m_{Y|X=x})^t CS_Y^{-1} (y-m_{Y|X=x}))}$\n",
    "où $ m_{Y|X=x}=m_Y+C_{X,Y}C_X^{-1}(x-m_x) $\n",
    "\n",
    "### 3. Loi du vecteur Z=m+RY\n",
    "Si Y = (Y1, . . . , Yp) est un vecteur de composantes gaussiennes indépendantes, toutes d’espérance nulle et de variance 1. Soit Z le vecteur Z = m + RY où R est une matrice p × p et m est un vecteur de\n",
    "taille p. \n",
    "\n",
    "Par linéarité de l'espérance: E(Z)=E(m)+E(RY)=m+0\n",
    "\n",
    "Ainsi : $\\mathbf{E(Z)=m}$\n",
    "\n",
    "\n",
    "V(Z)=V(RY)=E((RY)²) $ \\Rightarrow V(Z)=RR^t$.\n",
    "\n",
    "\n",
    "Ainsi, Z suit une loi normale centrée en m de variance $ V(Z)=RR^t $\n",
    "\n",
    "### 4. Algorithme de simulation conditionnelle \n",
    "\n",
    "On cherche, en reprenant les notations de la question 2 la loi de Y. \n",
    "\n",
    "On peut avoir cette loi si on a son espérance et sa variance puisuqe Y suit une loi normale. Il faut donc obtenir l'éspérance et la variance conditionnelle de Y sachant qu'on a certaines profondeurs. Notons $E_c$ l'espérance et la variance de $C_c$. On fait alors la décomposition de Cholesky de $C_c$ et on simule alors un vecteur gaussien centré réduit W. \n",
    "\n",
    "D'après la question 2, on a alors $ \\mathbf{Y=E_c+RW}$ avec $C_c=RR^t$"
   ]
  },
  {
   "cell_type": "markdown",
   "metadata": {},
   "source": [
    "# Questions de Simulation \n",
    "\n",
    "Forts de notre approche théorique, nous nous proposons une solution pratique au problème. \n",
    "\n",
    "\n",
    "Dans les lignes de codes qui suivent, nous initialisons Python et le modèle. "
   ]
  },
  {
   "cell_type": "code",
   "execution_count": null,
   "metadata": {},
   "outputs": [],
   "source": [
    "#Chargement de dépendances\n",
    "\n",
    "import numpy as np\n",
    "import matplotlib.pyplot as plt\n",
    "\n",
    "#Discrétisation\n",
    "A=0\n",
    "B=500\n",
    "N=101 #Nombre de point de discrétisation\n",
    "Delta=(B-A)/(N-1)\n",
    "discretization_indexes = np.arange(N)\n",
    "discretization = discretization_indexes * Delta\n",
    "\n",
    "#Paramètres du modèle\n",
    "\n",
    "mu = -5\n",
    "a = 50\n",
    "sigma2 = 12\n",
    "\n",
    "#Données\n",
    "\n",
    "observation_indexes = [0,20,40,60,80,100]\n",
    "depth = np.array([0 ,-4 ,-12.8 ,-1 ,-6.5 ,0])\n",
    "\n",
    "#Indices des composantes correspondant aux observations et aux composantes non observées\n",
    "\n",
    "unknown_indexes = list(set(discretization_indexes)-set(observation_indexes))\n"
   ]
  },
  {
   "cell_type": "markdown",
   "metadata": {},
   "source": [
    "### Question 1\n",
    "\n",
    "\n",
    "Dans la cellule suivante, nous proposons une fonction qui calcule la covariance de deux vecteurs aléatoires. "
   ]
  },
  {
   "cell_type": "code",
   "execution_count": null,
   "metadata": {},
   "outputs": [],
   "source": [
    "##1\n",
    "\n",
    "def cov(dist,a,sigma2):\n",
    "    distances=np.array(dist)\n",
    "    n= np.shape(distances)[0] #la matrice de distance doit être carrée\n",
    "    mat_cov=np.zeros((n,n))\n",
    "    for i in range(n):\n",
    "        for j in range(n):\n",
    "            mat_cov[i,j]=sigma2*np.exp(-np.abs(distances[i,j])/a)\n",
    "    return mat_cov\n",
    "    "
   ]
  },
  {
   "cell_type": "markdown",
   "metadata": {},
   "source": [
    "### Question 2\n",
    "\n",
    "\n",
    "Dans la cellule suivante, nous donnons la matrice de distance. "
   ]
  },
  {
   "cell_type": "code",
   "execution_count": null,
   "metadata": {},
   "outputs": [],
   "source": [
    "##2\n",
    "\n",
    "distances=np.zeros((N,N))\n",
    "for i in range(N):\n",
    "    for j in range(N):\n",
    "        distances[i,j] = Delta*np.abs(i-j)\n",
    "print('Matrice des distances :', distances)\n",
    "    "
   ]
  },
  {
   "cell_type": "markdown",
   "metadata": {},
   "source": [
    "### Question 3\n",
    "\n",
    "\n",
    "Pour calculer la matrice de covariance du vecteur $Z=(Z_{x_0},..,Z_{x_N})$, on utilise la fonction cov et la matrice des distances.  "
   ]
  },
  {
   "cell_type": "code",
   "execution_count": null,
   "metadata": {},
   "outputs": [],
   "source": [
    "##3\n",
    "\n",
    "\n",
    "cov_Z=cov(distances,a,sigma2)\n"
   ]
  },
  {
   "cell_type": "markdown",
   "metadata": {},
   "source": [
    "### Question 4\n",
    "\n",
    "\n",
    "On extrait de la matrice de covariance de la question précédente les matrices de covariance :\n",
    "1/ entre les observations \n",
    "2/ entre observations et inconnues \n",
    "3/ entre les inconnues "
   ]
  },
  {
   "cell_type": "code",
   "execution_count": null,
   "metadata": {},
   "outputs": [],
   "source": [
    "##4\n",
    "\n",
    "'''\n",
    " - entre les observations : on retiendra  de la matrice précédente que les indices en ligne et en colonne contenus\n",
    " dans observation_indexes\n",
    "'''\n",
    "l=len(observation_indexes)\n",
    "\n",
    "cov_observation=np.zeros((l,l))\n",
    "\n",
    "for i in range(l):\n",
    "    for j in range(l):\n",
    "        cov_observation[i,j]=cov_Z[observation_indexes[i],observation_indexes[j]]\n",
    "\n",
    "print('Matrice de covariance entre les observations Cc :\\n',cov_observation)\n",
    "\n",
    "'''\n",
    " - entre les inconnues Ci : idem\n",
    "'''\n",
    "l=len(unknown_indexes)\n",
    "\n",
    "cov_inc=np.zeros((l,l))\n",
    "\n",
    "for i in range(l):\n",
    "    for j in range(l):\n",
    "        cov_inc[i,j]=cov_Z[unknown_indexes[i],unknown_indexes[j]]\n",
    "\n",
    "print('Matrice de covariance entre les inconnues :\\n',cov_inc)\n",
    "    \n",
    "'''\n",
    " - entre les observations et les inconnues Cic : on va prendre les lignes inconnues et les colonnes des observations\n",
    " de la matrice cov_Z\n",
    "'''\n",
    "\n",
    "l1=len(observation_indexes)\n",
    "l2=len(unknown_indexes)\n",
    "cov_inc_and_obs=np.zeros((l2,l1))\n",
    "\n",
    "for i in range(l2):\n",
    "    for j in range(l1):\n",
    "        cov_inc_and_obs[i,j]=cov_Z[unknown_indexes[i],observation_indexes[j]]\n",
    "\n"
   ]
  },
  {
   "cell_type": "markdown",
   "metadata": {},
   "source": [
    "### Question 5\n",
    "\n",
    "On va changer l'ordre des lignes et des colonnes de la matrice $cov(Z)$ pour avoir     \n",
    "$cov(Z)=\\begin{pmatrix}\n",
    "    C_c & C_{ci} \\\\\n",
    "    C_{ic} & C_i \n",
    "        \\end{pmatrix}  $ pour simplifier le calcul de l'espérance conditionnelle. On se base sur la formule page 13\n",
    "du poly probabilités IV."
   ]
  },
  {
   "cell_type": "code",
   "execution_count": null,
   "metadata": {},
   "outputs": [],
   "source": [
    "esp_cond = np.zeros(len(unknown_indexes))+mu\n",
    "\n",
    "esp_obs = (np.zeros(len(observation_indexes))+mu).T\n",
    "Cc_inv = np.linalg.inv(cov_observation)\n",
    "esp_cond += cov_inc_and_obs.dot(Cc_inv).dot((depth-esp_obs).T)\n",
    "\n",
    "'''\n",
    "On ajoute les valeurs mesurées\n",
    "'''\n",
    "\n",
    "esp_condBis = esp_cond.tolist()\n",
    "\n",
    "for i in range(len(observation_indexes)):\n",
    "    esp_condBis.insert(observation_indexes[i],depth[i])\n",
    "\n",
    "plt.plot(discretization,esp_condBis,'b')\n",
    "plt.plot(np.array(observation_indexes)*Delta,depth,'gs')\n",
    "plt.xlabel('Longueur')\n",
    "plt.title('Espérance en fonction de la position sur le fond océanique')\n",
    "plt.ylabel('Espérance conditionnelle en bleu\\nProfondeur connues en vert')\n",
    "plt.show()"
   ]
  },
  {
   "cell_type": "markdown",
   "metadata": {},
   "source": [
    "On voit bien que la courbe bleue suit bien celle orange, ce qui est logique par rapport à ce que l'on souhaite avoir de la variable aléatoire Z.\n",
    "\n",
    "Par ailleurs, on remarque que si la courbe orange est supérieure à -5, l'espérance conditionnelle va avoir tendance à être en dessous et inversement. C'est du au fait que l'espérance $ \\textit{non conditionnelle}\\$ est égale à -5.\n",
    "\n",
    "Les courbes ne se joignent pas au niveau des points d'observation car nous n'avons pas rajouté les observations dans la matrice d'espérance conditionnelle."
   ]
  },
  {
   "cell_type": "markdown",
   "metadata": {},
   "source": [
    "### Question 6\n",
    "\n",
    "Comme précédement, on calcule la variance conditionnelle. "
   ]
  },
  {
   "cell_type": "code",
   "execution_count": null,
   "metadata": {},
   "outputs": [],
   "source": [
    "cov_cond=cov_inc - cov_inc_and_obs.dot(Cc_inv).dot(cov_inc_and_obs.T)\n",
    "\n",
    "diag=[cov_cond[i,i] for i in range(len(unknown_indexes))]\n",
    "plt.plot(np.array(unknown_indexes)*Delta,diag)\n",
    "plt.xlabel('Longueur')\n",
    "plt.ylabel('Variance conditionnelle en fonction de la position')\n",
    "plt.show()"
   ]
  },
  {
   "cell_type": "markdown",
   "metadata": {},
   "source": [
    "Il est assez logique que la variance conditionnelle oscille comme ça.\n",
    "Les oscillations sont périodiqueS uniquement parce que les observations sont prises à des positions régulières.\n",
    "\n",
    "Ensuite, plus on va s'éloigner d'un point d'observation, plus la valeur de la profondeur sera incertaine, et de même, plus on s'en rapproche, plus cette valeur est faible. On oscille donc entre variance forte et variance faible sur l'enseble de la longueur, puisqu'on a des points d'observation réguliers, et ceci avec un symétrie entre deux points d'observation successifs puisque la variance à la base est constante sur toute la longueur (cette constance se manifeste parcette symétrie entre deux observations successives). On aura toujous une variance inférieure ou égale à 12, comme elle est à la base de 12.\n",
    "\n",
    "En revanche, ce ne serait pas la cas si on en avait moins :"
   ]
  },
  {
   "cell_type": "code",
   "execution_count": null,
   "metadata": {},
   "outputs": [],
   "source": [
    "observation_indexes2 = [0,40,90,100]\n",
    "depth2 = np.array([0,-12.8,-6.5 ,0])\n",
    "\n",
    "unknown_indexes2 = list(set(discretization_indexes)-set(observation_indexes2))\n",
    "\n",
    "l=len(observation_indexes2)\n",
    "\n",
    "cov_observation2=np.zeros((l,l))\n",
    "\n",
    "for i in range(l):\n",
    "    for j in range(l):\n",
    "        cov_observation2[i,j]=cov_Z[observation_indexes2[i],observation_indexes2[j]]\n",
    "l=len(unknown_indexes2)\n",
    "cov_inc2=np.zeros((l,l))\n",
    "for i in range(l):\n",
    "    for j in range(l):\n",
    "        cov_inc2[i,j]=cov_Z[unknown_indexes2[i],unknown_indexes2[j]]\n",
    "l1=len(observation_indexes2)\n",
    "l2=len(unknown_indexes2)\n",
    "cov_inc_and_obs2=np.zeros((l2,l1))\n",
    "for i in range(l2):\n",
    "    for j in range(l1):\n",
    "        cov_inc_and_obs2[i,j]=cov_Z[unknown_indexes2[i],observation_indexes2[j]]\n",
    "\n",
    "esp_cond2 = np.zeros(len(unknown_indexes2))+mu\n",
    "\n",
    "esp_obs2 = (np.zeros(len(observation_indexes2))+mu).T\n",
    "Cc_inv2 = np.linalg.inv(cov_observation2)\n",
    "esp_cond2 += cov_inc_and_obs2.dot(Cc_inv2).dot((depth2-esp_obs2).T)\n",
    "\n",
    "esp_condTer = esp_cond2.tolist()\n",
    "\n",
    "for i in range(len(observation_indexes2)):\n",
    "    esp_condTer.insert(observation_indexes2[i],depth2[i])\n",
    "\n",
    "plt.plot(discretization,esp_condTer,'b')\n",
    "plt.plot(np.array(observation_indexes2)*Delta,depth2,'gs')\n",
    "plt.xlabel('Longueur')\n",
    "plt.title(\"Espérance en fonction de la position sur le fond océanique\\nsous d'autres observations\")\n",
    "plt.ylabel('Espérance conditionnelle en bleu\\nProfondeur connues en vert')\n",
    "plt.show()\n",
    "\n",
    "cov_cond2=cov_inc2 - cov_inc_and_obs2.dot(Cc_inv2).dot(cov_inc_and_obs2.T)\n",
    "\n",
    "diag2=[cov_cond2[i,i] for i in range(len(unknown_indexes2))]\n",
    "plt.plot(np.array(unknown_indexes2)*Delta,diag2)\n",
    "plt.xlabel('Longueur')\n",
    "plt.ylabel('Variance conditionnelle en fonction de la position')\n",
    "plt.title(\"Avec d'autres observations\")\n",
    "plt.show()\n",
    "\n",
    "\n"
   ]
  },
  {
   "cell_type": "markdown",
   "metadata": {},
   "source": [
    "On voit de plus que l'espérance et la variance tendent à se redresser vers leur valeur normale (ie non conditionnelle) lorsque la distance entre les observations est grande."
   ]
  },
  {
   "cell_type": "markdown",
   "metadata": {},
   "source": [
    "### Question 7\n",
    "\n",
    "Nous effectuons une simulation conditionnelle. "
   ]
  },
  {
   "cell_type": "code",
   "execution_count": null,
   "metadata": {},
   "outputs": [],
   "source": [
    "R = np.linalg.cholesky(cov_cond)\n",
    "\n",
    "Y = esp_cond + R.dot(np.random.randn(len(unknown_indexes)))\n",
    "\n",
    "'''\n",
    "Rapidement, on ajoute les données au vecteur Y pour avoir une courbe de profondeur continue\n",
    "'''\n",
    "Y = Y.tolist()\n",
    "\n",
    "for i in range(len(observation_indexes)):\n",
    "    Y.insert(observation_indexes[i],depth[i])\n",
    "\n",
    "plt.plot(discretization,esp_condBis,'r')\n",
    "plt.plot(discretization,Y,'b')\n",
    "plt.plot(np.array(observation_indexes)*Delta,depth,'gs')\n",
    "plt.title(\"Simulation conditionnelle des profondeurs\\ncomparée à l'espérance conditionnelle\\net \\\n",
    "aux valeurs connues\")\n",
    "plt.xlabel('Longueur')\n",
    "plt.ylabel('Simulation en bleu\\nEspérance en rouge\\nDonnées en vert')\n",
    "plt.show()\n"
   ]
  },
  {
   "cell_type": "markdown",
   "metadata": {},
   "source": [
    "### Question 8\n",
    "\n",
    "on définit ci-dessous une fonction longeur qui donne la longeur du cable en fonction des relevés et du pas de discrétisation. \n"
   ]
  },
  {
   "cell_type": "code",
   "execution_count": null,
   "metadata": {},
   "outputs": [],
   "source": [
    "def longueur(Z,delta):\n",
    "    long=0\n",
    "    \n",
    "    for i in range(1,len(Z)):\n",
    "        long += np.sqrt(delta**2+(Z[i]-Z[i-1])**2)\n",
    "    return long\n",
    "\n",
    "print('La longueur du cable de la simulation précédente est de {} m (au centimètre près).'.format(int(longueur(Y,Delta)*100)/100))\n",
    "\n"
   ]
  },
  {
   "cell_type": "markdown",
   "metadata": {},
   "source": [
    "### Question 9\n",
    "\n",
    "Nous proposons une réponse à cette question en définissant une classe Simulation qui nous permettra de gagner en efficacité. "
   ]
  },
  {
   "cell_type": "code",
   "execution_count": null,
   "metadata": {},
   "outputs": [],
   "source": [
    "class Simulation:\n",
    "    '''\n",
    "    Classe qui va nous permettre de simuler plusieurs fois, tout en pouvant changer facilement\n",
    "    les profondeurs de référence\n",
    "    '''\n",
    "    \n",
    "    def __init__(self,observation_indexes,depth,Delta,N,sigma2,a):\n",
    "        self.observation_indexes = observation_indexes\n",
    "        self.depth = depth\n",
    "        self.delta = Delta\n",
    "        self.N = N\n",
    "        self.sigma2=sigma2\n",
    "        self.discretization_indexes = np.arange(N)\n",
    "        self.discretization = self.discretization_indexes * Delta\n",
    "        self.unknown_indexes = list(set(self.discretization_indexes)-set(self.observation_indexes))\n",
    "        self.esp_cond = 0\n",
    "        self.cov_cond = 0\n",
    "        self.Y = Y\n",
    "        self.a = a\n",
    "        distances=np.zeros((N,N))\n",
    "        for i in range(N):\n",
    "            for j in range(N):\n",
    "                distances[i,j] = Delta*np.abs(i-j)\n",
    "        self.distances=distances\n",
    "    \n",
    "    def conditionnement(self):\n",
    "        '''\n",
    "        On réalise les questions 2 à 6\n",
    "        '''\n",
    "        \n",
    "        #Données\n",
    "        N = self.N\n",
    "        observation_indexes=self.observation_indexes\n",
    "        depth = self.depth \n",
    "        Delta = self.delta\n",
    "        unknown_indexes = self.unknown_indexes\n",
    "        \n",
    "        distances=np.zeros((N,N))\n",
    "        for i in range(N):\n",
    "            for j in range(N):\n",
    "                distances[i,j] = Delta*np.abs(i-j)\n",
    "        cov_Z=cov(self.distances,self.a,self.sigma2)\n",
    "        l=len(observation_indexes)\n",
    "        cov_observation=np.zeros((l,l))\n",
    "        for i in range(l):\n",
    "            for j in range(l):\n",
    "                cov_observation[i,j]=cov_Z[observation_indexes[i],observation_indexes[j]]\n",
    "        l=len(unknown_indexes)\n",
    "        cov_inc=np.zeros((l,l))\n",
    "        for i in range(l):\n",
    "            for j in range(l):\n",
    "                cov_inc[i,j]=cov_Z[unknown_indexes[i],unknown_indexes[j]]\n",
    "        l1=len(observation_indexes)\n",
    "        l2=len(unknown_indexes)\n",
    "        cov_inc_and_obs=np.zeros((l2,l1))\n",
    "        for i in range(l2):\n",
    "            for j in range(l1):\n",
    "                cov_inc_and_obs[i,j]=cov_Z[unknown_indexes[i],observation_indexes[j]]\n",
    "        \n",
    "        #Espérance conditionnelle\n",
    "        self.esp_cond = np.zeros(len(unknown_indexes))+mu\n",
    "        esp_obs = (np.zeros(len(observation_indexes))+mu).T\n",
    "        Cc_inv = np.linalg.inv(cov_observation)\n",
    "        self.esp_cond += cov_inc_and_obs.dot(Cc_inv).dot((depth-esp_obs).T)\n",
    "        \n",
    "        #Variance conditionnelle\n",
    "        self.cov_cond=cov_inc - cov_inc_and_obs.dot(Cc_inv).dot(cov_inc_and_obs.T)\n",
    "        \n",
    "    def simul(self):\n",
    "        '''\n",
    "        On fait la simulation conditionnelle une fois\n",
    "        '''\n",
    "        R = np.linalg.cholesky(self.cov_cond)\n",
    "        Y = self.esp_cond + R.dot(np.random.randn(len(self.unknown_indexes)))\n",
    "        Y = Y.tolist()\n",
    "        for i in range(len(self.observation_indexes)):\n",
    "            Y.insert(self.observation_indexes[i],self.depth[i])\n",
    "        \n",
    "        return Y\n",
    "    \n",
    "   \n",
    "Y = Simulation(observation_indexes,depth,Delta,N,sigma2,a)\n",
    "Y.conditionnement()\n",
    "\n",
    "long_moy=0\n",
    "\n",
    "for i in range(100):\n",
    "    long_moy += longueur(Y.simul(),Delta)\n",
    "\n",
    "long_moy = long_moy/100\n",
    "\n",
    "'''\n",
    "Maintenant on compare avec la longueur tirée de l'espérance conditionnelle\n",
    "'''\n",
    "\n",
    "    \n",
    "long_cond = longueur(esp_condBis,Delta)\n",
    "\n",
    "print(\"La longueur moyenne estimée est {} m là où l'espérance conditionnelle nous donne {} m\\\n",
    "(au centimètre près).\"\\\n",
    "      .format(int(long_moy*100)/100,int(long_cond*100)/100))\n",
    "\n",
    "\n",
    "\n"
   ]
  },
  {
   "cell_type": "markdown",
   "metadata": {},
   "source": [
    "La différence est dûe au fait que la courbe d'espérance conditionnelle est beaucoup plus lissée que celle d'une simulation. En moyenne, une simulation donnera une longueur plus grande que celle prévue par l'espérance conditionnelle, puisque cette moyenne n'est pas faite\n",
    "sur la profondeur de chaque point, mais sur la longueur totale (qui à chaque simulation subit les pics que l'on voit sur les courbes)."
   ]
  },
  {
   "cell_type": "markdown",
   "metadata": {},
   "source": [
    "### Question 10\n",
    "\n",
    "Nous proposons de représenter la suite $M_n$ des moyennes en fonction du nombre de simulations. "
   ]
  },
  {
   "cell_type": "code",
   "execution_count": null,
   "metadata": {},
   "outputs": [],
   "source": [
    "Mn=[]\n",
    "L=[] #Va stocker toutes les longueurs calculées, donc c'est une grosse liste...\n",
    "Y = Simulation(observation_indexes,depth,Delta,N,sigma2,a)\n",
    "Y.conditionnement()\n",
    "'''\n",
    "On va aller jusqu'à 250\n",
    "'''\n",
    "for j in range(1,251):\n",
    "    long_moy=0\n",
    "    for i in range(j):\n",
    "        l = longueur(Y.simul(),Delta)\n",
    "        long_moy += l\n",
    "        L.append(l)\n",
    "    long_moy = long_moy/j\n",
    "    Mn.append(long_moy)\n",
    "\n",
    "plt.plot(Mn,'o')\n",
    "plt.title('Suite Mn de la longueur moyenne du câble en fonction du nombre de simulations')\n",
    "plt.xlabel('Nombre de Simulations')\n",
    "plt.ylabel('Longueur moyenne du câble pour\\nun nombre de simulation donné')\n",
    "plt.show()\n",
    "\n"
   ]
  },
  {
   "cell_type": "markdown",
   "metadata": {},
   "source": [
    "### Question 11\n"
   ]
  },
  {
   "cell_type": "code",
   "execution_count": null,
   "metadata": {
    "scrolled": true
   },
   "outputs": [],
   "source": [
    "plt.hist(L,100)\n",
    "plt.title('Histogramme des valeurs prises par la moyenne de la longeur de câble')\n",
    "plt.xlabel('Longueurs moyennes')\n",
    "plt.ylabel(\"Nombre d'occurences\")\n",
    "plt.show()\n",
    "\n",
    "\n",
    "# Pour faire une simulation, il suffit de faire Y.simul()\n",
    "# Z=Y.simul() permet de stocker la simulation dans la variable Z\n",
    "\n"
   ]
  },
  {
   "cell_type": "markdown",
   "metadata": {},
   "source": [
    "On a visiblement un convergence vers 522-523 m environ et on observe un profil gaussien. "
   ]
  },
  {
   "cell_type": "markdown",
   "metadata": {},
   "source": [
    "### Question 12\n"
   ]
  },
  {
   "cell_type": "code",
   "execution_count": null,
   "metadata": {},
   "outputs": [],
   "source": []
  },
  {
   "cell_type": "markdown",
   "metadata": {},
   "source": [
    "### Question 7\n"
   ]
  },
  {
   "cell_type": "code",
   "execution_count": null,
   "metadata": {},
   "outputs": [],
   "source": []
  },
  {
   "cell_type": "markdown",
   "metadata": {},
   "source": [
    "### Question 7\n"
   ]
  },
  {
   "cell_type": "code",
   "execution_count": null,
   "metadata": {},
   "outputs": [],
   "source": []
  },
  {
   "cell_type": "markdown",
   "metadata": {},
   "source": [
    "## Annexe\n",
    "Nous proposons de simuler un cas concret : mettre un câble reliant New York à Brest.\n",
    "\n",
    "Les données sont prises sur Google Earth.\n",
    "Ici, mu=-5000 (profondeurs abissales) et sigma2=10 000.\n",
    "A et B sont en km. \n",
    "On prend a = 600 pour faire la simulation."
   ]
  },
  {
   "cell_type": "code",
   "execution_count": null,
   "metadata": {},
   "outputs": [],
   "source": [
    "A=0\n",
    "B=6000\n",
    "N=1001\n",
    "Delta=(B-A)/(N-1)\n",
    "mu = -5000\n",
    "a = 600\n",
    "sigma2 = 10000\n",
    "observation_indexes = [0 ,20 ,50 ,70 ,85 ,100 ,111 ,205 ,293 ,310 ,391 ,428 ,474 ,542 ,563 ,668 ,833 ,911 ,917 ,930 ,950 ,980 ,1000]\n",
    "depth = np.array([40 ,-250 ,-308 ,-304 ,-305 ,-300 ,-3240 ,-4850 ,-5010, -5210 ,-3980 ,-4930 ,-4850 ,-3000 ,-3400 ,-1750 ,-4830 ,-3700 ,-304 ,-306 ,-307 ,-280 ,105])\n",
    "\n",
    "plt.plot(np.array(observation_indexes)*Delta, depth)\n",
    "plt.xlabel('Longueur')\n",
    "plt.ylabel('Profondeurs connues')\n",
    "plt.show()\n",
    "\n",
    "Y = Simulation(observation_indexes,depth,Delta,N,sigma2,a)\n",
    "Y.conditionnement()\n",
    "esp_condBis = Y.esp_cond.tolist()\n",
    "\n",
    "for i in range(len(observation_indexes)):\n",
    "    esp_condBis.insert(observation_indexes[i],depth[i])\n",
    "\n",
    "plt.plot(Y.discretization,esp_condBis,'b')\n",
    "plt.plot(np.array(observation_indexes)*Delta,depth,'gs')\n",
    "plt.xlabel('Longueur')\n",
    "plt.title(\"Profondeur moyenne estimée de l'Atlantique\")\n",
    "plt.ylabel('Espérance conditionnelle en bleu\\nProfondeur connues en vert')\n",
    "plt.show()\n",
    "\n",
    "diag=[Y.cov_cond[i,i] for i in range(len(Y.unknown_indexes))]\n",
    "plt.plot(np.array(Y.unknown_indexes)*Delta,diag)\n",
    "plt.xlabel('Longueur')\n",
    "plt.ylabel(\"Variance du fond océanique de l'Atlantique\")\n",
    "plt.title(\"Avec d'autres observations\")\n",
    "plt.show()\n",
    "\n",
    "Simulation=Y.simul()\n",
    "\n",
    "plt.plot(Y.discretization,Simulation)\n",
    "plt.title(\"Simulation conditionnelle des profondeurs\\nde l'Atlantique\")\n",
    "plt.xlabel('Longueur')\n",
    "plt.show()\n",
    "\n",
    "long_moy=0\n",
    "\n",
    "for i in range(100):\n",
    "    long_moy += longueur(Y.simul(),Delta)\n",
    "\n",
    "long_moy = long_moy/100\n",
    "\n",
    "long_cond = longueur(Y.esp_cond,Delta)\n",
    "\n",
    "print(\"La longueur moyenne estimée est {} km là où l'espérance conditionnelle nous donne {} km\\\n",
    " (au kilomètre près) pour 100 simulations.\"\\\n",
    "      .format(int(long_moy),int(long_cond)))\n"
   ]
  },
  {
   "cell_type": "code",
   "execution_count": null,
   "metadata": {},
   "outputs": [],
   "source": []
  }
 ],
 "metadata": {
  "celltoolbar": "Diaporama",
  "kernelspec": {
   "display_name": "Python 3",
   "language": "python",
   "name": "python3"
  },
  "language_info": {
   "codemirror_mode": {
    "name": "ipython",
    "version": 3
   },
   "file_extension": ".py",
   "mimetype": "text/x-python",
   "name": "python",
   "nbconvert_exporter": "python",
   "pygments_lexer": "ipython3",
   "version": "3.7.4"
  }
 },
 "nbformat": 4,
 "nbformat_minor": 2
}
