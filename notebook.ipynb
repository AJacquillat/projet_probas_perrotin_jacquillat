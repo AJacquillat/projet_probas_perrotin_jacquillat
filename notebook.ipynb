{
 "cells": [
  {
   "cell_type": "raw",
   "metadata": {
    "slideshow": {
     "slide_type": "-"
    }
   },
   "source": [
    "Avertissement : Nous vous invitons à visionner ce notebook dans des diapositives. \n",
    "Si vous ne disposez pas du module en local, tappez dans un interpreteur Python pip install rise. \n",
    "Vous devriez ensuite voir apparaître sur votre barre de commandes une icône ressemblant à un histogramme. \n",
    "Cliquez dessus et... corrigez \n",
    "\n",
    "n.b.:Toutes les slides sont de tailles prévues pour tenir sur l'écran d'un ordinateur. Si elles ne tiennent pas sur le vôtre, changez s'il vous plait le zoom de votre navigateur. \n"
   ]
  },
  {
   "cell_type": "markdown",
   "metadata": {
    "slideshow": {
     "slide_type": "slide"
    }
   },
   "source": [
    "# Projet Mathématiques Informatique III: Probabilités\n",
    "\n",
    "### Louis Perrotin\n",
    "### Augustin Jacquillat "
   ]
  },
  {
   "cell_type": "markdown",
   "metadata": {
    "slideshow": {
     "slide_type": "slide"
    }
   },
   "source": [
    "Cher lecteur, Vous trouverez dans ce notebook des éléments de probabilités. Nous traitons la question de la longeur d'un câble sous marin. Etant fixés les deux point à relier, il nous faut estimer la profondeur du fond marin afin de choisir un câble de longeur apropriée."
   ]
  },
  {
   "cell_type": "code",
   "execution_count": null,
   "metadata": {
    "slideshow": {
     "slide_type": "-"
    }
   },
   "outputs": [],
   "source": []
  }
 ],
 "metadata": {
  "celltoolbar": "Diaporama",
  "kernelspec": {
   "display_name": "Python 3",
   "language": "python",
   "name": "python3"
  },
  "language_info": {
   "codemirror_mode": {
    "name": "ipython",
    "version": 3
   },
   "file_extension": ".py",
   "mimetype": "text/x-python",
   "name": "python",
   "nbconvert_exporter": "python",
   "pygments_lexer": "ipython3",
   "version": "3.7.4"
  }
 },
 "nbformat": 4,
 "nbformat_minor": 2
}
